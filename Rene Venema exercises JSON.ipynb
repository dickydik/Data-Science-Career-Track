{
 "cells": [
  {
   "cell_type": "code",
   "execution_count": 2,
   "metadata": {
    "collapsed": true
   },
   "outputs": [],
   "source": [
    "import pandas as pd"
   ]
  },
  {
   "cell_type": "code",
   "execution_count": 3,
   "metadata": {
    "collapsed": true
   },
   "outputs": [],
   "source": [
    "import json\n",
    "from pandas.io.json import json_normalize"
   ]
  },
  {
   "cell_type": "code",
   "execution_count": 5,
   "metadata": {
    "collapsed": true
   },
   "outputs": [],
   "source": [
    "world_bank_projects_df = pd.read_json('data/world_bank_projects.json')"
   ]
  },
  {
   "cell_type": "code",
   "execution_count": 6,
   "metadata": {},
   "outputs": [
    {
     "data": {
      "text/plain": [
       "0"
      ]
     },
     "execution_count": 6,
     "metadata": {},
     "output_type": "execute_result"
    }
   ],
   "source": [
    "df = world_bank_projects_df\n",
    "len(df[df.country_namecode.isnull()])"
   ]
  },
  {
   "cell_type": "code",
   "execution_count": 5,
   "metadata": {},
   "outputs": [
    {
     "data": {
      "text/plain": [
       "countryname                      countrycode  country_namecode                    \n",
       "People's Republic of China       CN           People's Republic of China!$!CN         19\n",
       "Republic of Indonesia            ID           Republic of Indonesia!$!ID              19\n",
       "Socialist Republic of Vietnam    VN           Socialist Republic of Vietnam!$!VN      17\n",
       "Republic of India                IN           Republic of India!$!IN                  16\n",
       "Republic of Yemen                RY           Republic of Yemen!$!RY                  13\n",
       "Kingdom of Morocco               MA           Kingdom of Morocco!$!MA                 12\n",
       "Nepal                            NP           Nepal!$!NP                              12\n",
       "People's Republic of Bangladesh  BD           People's Republic of Bangladesh!$!BD    12\n",
       "Africa                           3A           Africa!$!3A                             11\n",
       "Republic of Mozambique           MZ           Republic of Mozambique!$!MZ             11\n",
       "dtype: int64"
      ]
     },
     "execution_count": 5,
     "metadata": {},
     "output_type": "execute_result"
    }
   ],
   "source": [
    "# Find the 10 countries with most projects\n",
    "# Countries can be identified by either countryname, countrycode or country_namecode\n",
    "# Neither of these columns contain a NaN value\n",
    "# Example: df = world_bank_projects_df\n",
    "#          len(df[df.country_namecode.isnull()])\n",
    "# returns 0\n",
    "# Countryname i most appropriate as it reflects the country name in a way that seems understandable for anyone\n",
    "# It might by a good idea though to include at least the countrycode in case there is a need to merge with country related data\n",
    "# in any future/oncoming requirements\n",
    "df.groupby(['countryname','countrycode','country_namecode']).size().nlargest(10)\n",
    "# QUESTION: How to add headers/column names?\n",
    "#print (\"The 10 countries with most projects\")\n",
    "#df.countryname.value_counts().head(10)"
   ]
  },
  {
   "cell_type": "code",
   "execution_count": 12,
   "metadata": {},
   "outputs": [
    {
     "name": "stdout",
     "output_type": "stream",
     "text": [
      "Top 10 major project themes\n"
     ]
    },
    {
     "data": {
      "text/plain": [
       "Environment and natural resources management    223\n",
       "Rural development                               202\n",
       "Human development                               197\n",
       "Public sector governance                        184\n",
       "Social protection and risk management           158\n",
       "Financial and private sector development        130\n",
       "                                                122\n",
       "Social dev/gender/inclusion                     119\n",
       "Trade and integration                            72\n",
       "Urban development                                47\n",
       "Name: name, dtype: int64"
      ]
     },
     "execution_count": 12,
     "metadata": {},
     "output_type": "execute_result"
    }
   ],
   "source": [
    "# Find the top 10 major project themes (using column 'mjtheme_namecode')\n",
    "# First I collected the values in the column 'mjtheme_namecode' by running df and exporting the result to a csv file:\n",
    "#    df.to_csv('World banl projects.csv', encoding = 'utf-8')\n",
    "# which I reviewed in Excel\n",
    "# Another way is to capture mjtheme_namecode in a series or list and retrieve some values:\n",
    "#    data = df['mjtheme_namecode'] -> creates a data frame\n",
    "#    data = df['mjtheme_namecode'].values.tolist() -> creates a list\n",
    "#    retrieve value for index 100 -> json_normalize(data[11])\n",
    "# Column 'mjtheme_namecode' contains nested groups, consisting of code and name\n",
    "# It's apparent that we can normalize the data using json_normalize\n",
    "print('Top 10 major project themes')\n",
    "data = json.load((open('data/world_bank_projects.json')))\n",
    "project_themes = json_normalize(data, 'mjtheme_namecode')\n",
    "project_themes.name.value_counts().head(10)\n",
    "#alternative: project_themes.groupby(['name']).size().nlargest(10)"
   ]
  },
  {
   "cell_type": "code",
   "execution_count": 13,
   "metadata": {
    "collapsed": true
   },
   "outputs": [],
   "source": [
    "# Create a dataframe with the missing names filled in\n",
    "# First, check how many names are missing, use this as a \"zero reference point\":\n",
    "#     project_themes[project_themes['name'].str.len() ==0]\n",
    "# To count the number of missing names you can use:\n",
    "#     project_themes[project_themes['name'].str.len() ==0].count()\n",
    "#Next, create a dataframe and fill in the missing name values\n",
    "#lookup = project_themes[project_themes['name'].str.len() !=0].groupby(['name','code']).size() -> creates a Series\n",
    "#lookup = project_themes[project_themes['name'].str.len() !=0].groupby(['code','name']).count()-> creates an empty DataFrame,\n",
    "# lookup.columns.tolist() results in []\n",
    "lookup = project_themes[project_themes['name'].str.len() !=0].groupby(['name','code']).size().reset_index()\n",
    "# REMARK, apparently you have to use reset_index. Why, what does it do exactly?\n",
    "lookup.columns.tolist()\n",
    "# We don't want/need the last column hence delete it\n",
    "del lookup[0]\n",
    "#merge the dataframe containing all codes/names Lookup) with the dataframe with missing names:\n",
    "result = pd.merge(lookup, project_themes,how='left', left_on='code', right_on='code', suffixes=['','_lookup'])\n",
    "#drop the column you added a suffix to:\n",
    "del result['name_lookup']\n",
    "#check for any missing names in result:\n",
    "result[result['name'].str.len() ==0].count()\n",
    "#Select the top 10 major project themes:\n",
    "print('Top 10 major project themes (final)')\n",
    "result.groupby(['name']).size().nlargest(10)"
   ]
  },
  {
   "cell_type": "code",
   "execution_count": null,
   "metadata": {
    "collapsed": true
   },
   "outputs": [],
   "source": []
  }
 ],
 "metadata": {
  "kernelspec": {
   "display_name": "Python 3",
   "language": "python",
   "name": "python3"
  },
  "language_info": {
   "codemirror_mode": {
    "name": "ipython",
    "version": 3
   },
   "file_extension": ".py",
   "mimetype": "text/x-python",
   "name": "python",
   "nbconvert_exporter": "python",
   "pygments_lexer": "ipython3",
   "version": "3.6.1"
  }
 },
 "nbformat": 4,
 "nbformat_minor": 2
}
